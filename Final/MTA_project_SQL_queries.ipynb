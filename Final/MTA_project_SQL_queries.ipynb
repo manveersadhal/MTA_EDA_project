{
 "cells": [
  {
   "cell_type": "code",
   "execution_count": 2,
   "id": "e59ec419",
   "metadata": {},
   "outputs": [],
   "source": [
    "import pandas as pd\n",
    "import sqlite3\n",
    "from sqlalchemy import create_engine"
   ]
  },
  {
   "cell_type": "code",
   "execution_count": null,
   "id": "b6f3ee05",
   "metadata": {},
   "outputs": [],
   "source": [
    "def get_data(week_nums):\n",
    "    url = \"http://web.mta.info/developers/data/nyct/turnstile/turnstile_{}.txt\" #url with formatting to fill in the number of the particular week\n",
    "    dfs = []\n",
    "    for week_num in week_nums: #for each week\n",
    "        file_url = url.format(week_num) #format the url so it grabs that week\n",
    "        dfs.append(pd.read_csv(file_url)) #append to our empty list\n",
    "    return pd.concat(dfs) #combine files for each week\n",
    "\n",
    "\n",
    "start_date = '12/29/2018'\n",
    "num_per = 24\n",
    "data_collection_period = pd.date_range(start = start_date, periods = num_per, freq = 'W-SAT')\n",
    "week_nums = []\n",
    "for item in data_collection_period:\n",
    "    week_nums.append(int((str(item).rstrip('0:').lstrip('20').replace('-', '')).strip()))\n",
    "\n",
    "turnstiles_df = get_data(week_nums) #use our function to get a df with all of our data"
   ]
  },
  {
   "cell_type": "code",
   "execution_count": null,
   "id": "45223377",
   "metadata": {},
   "outputs": [],
   "source": [
    "csv_filename = f'mta_data_{week_nums[0]}_to_{week_nums[-1]}.csv'\n",
    "turnstiles_df.to_csv(csv_filename, header = False, index = False)"
   ]
  },
  {
   "cell_type": "code",
   "execution_count": 3,
   "id": "d69e3a78",
   "metadata": {},
   "outputs": [],
   "source": [
    "engine = create_engine(\"sqlite:///mta.db\")"
   ]
  },
  {
   "cell_type": "code",
   "execution_count": null,
   "id": "54f95361",
   "metadata": {},
   "outputs": [],
   "source": [
    "all_data = pd.read_sql('SELECT * FROM mta_data;', engine)"
   ]
  },
  {
   "cell_type": "code",
   "execution_count": 6,
   "id": "e7053bec",
   "metadata": {
    "scrolled": true
   },
   "outputs": [
    {
     "data": {
      "text/html": [
       "<div>\n",
       "<style scoped>\n",
       "    .dataframe tbody tr th:only-of-type {\n",
       "        vertical-align: middle;\n",
       "    }\n",
       "\n",
       "    .dataframe tbody tr th {\n",
       "        vertical-align: top;\n",
       "    }\n",
       "\n",
       "    .dataframe thead th {\n",
       "        text-align: right;\n",
       "    }\n",
       "</style>\n",
       "<table border=\"1\" class=\"dataframe\">\n",
       "  <thead>\n",
       "    <tr style=\"text-align: right;\">\n",
       "      <th></th>\n",
       "      <th>COUNT(DISTINCT SCP)</th>\n",
       "      <th>STATION</th>\n",
       "      <th>LINENAME</th>\n",
       "    </tr>\n",
       "  </thead>\n",
       "  <tbody>\n",
       "    <tr>\n",
       "      <th>0</th>\n",
       "      <td>60</td>\n",
       "      <td>FULTON ST</td>\n",
       "      <td>2345ACJZ</td>\n",
       "    </tr>\n",
       "    <tr>\n",
       "      <th>1</th>\n",
       "      <td>50</td>\n",
       "      <td>34 ST-PENN STA</td>\n",
       "      <td>ACE</td>\n",
       "    </tr>\n",
       "    <tr>\n",
       "      <th>2</th>\n",
       "      <td>47</td>\n",
       "      <td>PATH NEW WTC</td>\n",
       "      <td>1</td>\n",
       "    </tr>\n",
       "    <tr>\n",
       "      <th>3</th>\n",
       "      <td>41</td>\n",
       "      <td>34 ST-HERALD SQ</td>\n",
       "      <td>BDFMNQRW</td>\n",
       "    </tr>\n",
       "    <tr>\n",
       "      <th>4</th>\n",
       "      <td>39</td>\n",
       "      <td>CORTLANDT ST</td>\n",
       "      <td>RNW</td>\n",
       "    </tr>\n",
       "  </tbody>\n",
       "</table>\n",
       "</div>"
      ],
      "text/plain": [
       "   COUNT(DISTINCT SCP)          STATION  LINENAME\n",
       "0                   60        FULTON ST  2345ACJZ\n",
       "1                   50   34 ST-PENN STA       ACE\n",
       "2                   47     PATH NEW WTC         1\n",
       "3                   41  34 ST-HERALD SQ  BDFMNQRW\n",
       "4                   39     CORTLANDT ST       RNW"
      ]
     },
     "execution_count": 6,
     "metadata": {},
     "output_type": "execute_result"
    }
   ],
   "source": [
    "turnstile_count_by_station = pd.read_sql('SELECT COUNT(DISTINCT SCP), STATION, LINENAME \\\n",
    "                                        FROM mta_data \\\n",
    "                                        GROUP BY STATION, LINENAME \\\n",
    "                                        ORDER BY COUNT(DISTINCT SCP) DESC;', engine)\n",
    "turnstile_count_by_station.head()"
   ]
  },
  {
   "cell_type": "code",
   "execution_count": 4,
   "id": "933473c9",
   "metadata": {},
   "outputs": [
    {
     "data": {
      "text/html": [
       "<div>\n",
       "<style scoped>\n",
       "    .dataframe tbody tr th:only-of-type {\n",
       "        vertical-align: middle;\n",
       "    }\n",
       "\n",
       "    .dataframe tbody tr th {\n",
       "        vertical-align: top;\n",
       "    }\n",
       "\n",
       "    .dataframe thead th {\n",
       "        text-align: right;\n",
       "    }\n",
       "</style>\n",
       "<table border=\"1\" class=\"dataframe\">\n",
       "  <thead>\n",
       "    <tr style=\"text-align: right;\">\n",
       "      <th></th>\n",
       "      <th>STATION</th>\n",
       "      <th>LINENAME</th>\n",
       "    </tr>\n",
       "  </thead>\n",
       "  <tbody>\n",
       "    <tr>\n",
       "      <th>0</th>\n",
       "      <td>BROOKLYN BRIDGE</td>\n",
       "      <td>456JZ</td>\n",
       "    </tr>\n",
       "    <tr>\n",
       "      <th>1</th>\n",
       "      <td>BROOKLYN BRIDGE</td>\n",
       "      <td>456JZ</td>\n",
       "    </tr>\n",
       "    <tr>\n",
       "      <th>2</th>\n",
       "      <td>BROOKLYN BRIDGE</td>\n",
       "      <td>456JZ</td>\n",
       "    </tr>\n",
       "    <tr>\n",
       "      <th>3</th>\n",
       "      <td>BROOKLYN BRIDGE</td>\n",
       "      <td>456JZ</td>\n",
       "    </tr>\n",
       "    <tr>\n",
       "      <th>4</th>\n",
       "      <td>BROOKLYN BRIDGE</td>\n",
       "      <td>456JZ</td>\n",
       "    </tr>\n",
       "  </tbody>\n",
       "</table>\n",
       "</div>"
      ],
      "text/plain": [
       "           STATION LINENAME\n",
       "0  BROOKLYN BRIDGE    456JZ\n",
       "1  BROOKLYN BRIDGE    456JZ\n",
       "2  BROOKLYN BRIDGE    456JZ\n",
       "3  BROOKLYN BRIDGE    456JZ\n",
       "4  BROOKLYN BRIDGE    456JZ"
      ]
     },
     "execution_count": 4,
     "metadata": {},
     "output_type": "execute_result"
    }
   ],
   "source": [
    "station_contains_brooklyn = pd.read_sql(\"SELECT STATION, LINENAME \\\n",
    "                                        FROM mta_data \\\n",
    "                                        WHERE STATION LIKE '%BROOKLYN%';\", engine)\n",
    "station_contains_brooklyn.head()"
   ]
  },
  {
   "cell_type": "code",
   "execution_count": null,
   "id": "e7d407c7",
   "metadata": {},
   "outputs": [],
   "source": []
  }
 ],
 "metadata": {
  "kernelspec": {
   "display_name": "Python 3",
   "language": "python",
   "name": "python3"
  },
  "language_info": {
   "codemirror_mode": {
    "name": "ipython",
    "version": 3
   },
   "file_extension": ".py",
   "mimetype": "text/x-python",
   "name": "python",
   "nbconvert_exporter": "python",
   "pygments_lexer": "ipython3",
   "version": "3.8.8"
  }
 },
 "nbformat": 4,
 "nbformat_minor": 5
}
